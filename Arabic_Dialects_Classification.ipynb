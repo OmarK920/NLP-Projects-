{
  "nbformat": 4,
  "nbformat_minor": 0,
  "metadata": {
    "colab": {
      "provenance": [],
      "gpuType": "T4",
      "include_colab_link": true
    },
    "kernelspec": {
      "name": "python3",
      "display_name": "Python 3"
    },
    "language_info": {
      "name": "python"
    },
    "accelerator": "GPU"
  },
  "cells": [
    {
      "cell_type": "markdown",
      "metadata": {
        "id": "view-in-github",
        "colab_type": "text"
      },
      "source": [
        "<a href=\"https://colab.research.google.com/github/OmarK920/NLP-Projects-/blob/main/Arabic_Dialects_Classification.ipynb\" target=\"_parent\"><img src=\"https://colab.research.google.com/assets/colab-badge.svg\" alt=\"Open In Colab\"/></a>"
      ]
    },
    {
      "cell_type": "code",
      "execution_count": null,
      "metadata": {
        "id": "BefLC21c_GBn"
      },
      "outputs": [],
      "source": [
        "import numpy as np\n",
        "import pandas as pd"
      ]
    },
    {
      "cell_type": "markdown",
      "source": [
        "# Pre-Processing"
      ],
      "metadata": {
        "id": "jvAvIdUu4u31"
      }
    },
    {
      "cell_type": "code",
      "source": [
        "msa_df = pd.read_csv('/content/transformed.csv')"
      ],
      "metadata": {
        "id": "Lkyh0cXCApGF"
      },
      "execution_count": null,
      "outputs": []
    },
    {
      "cell_type": "code",
      "source": [
        "msa_df['dialect'].unique()"
      ],
      "metadata": {
        "colab": {
          "base_uri": "https://localhost:8080/"
        },
        "id": "EQHv2kuYA3Ly",
        "outputId": "79905ffd-0ead-4606-cb0b-4bbc6fe10f50"
      },
      "execution_count": null,
      "outputs": [
        {
          "output_type": "execute_result",
          "data": {
            "text/plain": [
              "array(['IQ', 'LY', 'QA', 'PL', 'SY', 'TN', 'JO', 'MA', 'SA', 'YE', 'DZ',\n",
              "       'EG', 'LB', 'KW', 'OM', 'SD', 'AE', 'BH'], dtype=object)"
            ]
          },
          "metadata": {},
          "execution_count": 6
        }
      ]
    },
    {
      "cell_type": "code",
      "source": [
        "msa_df2= msa_df"
      ],
      "metadata": {
        "id": "f281ThXyDndY"
      },
      "execution_count": null,
      "outputs": []
    },
    {
      "cell_type": "code",
      "source": [
        "msa_df.head(5)"
      ],
      "metadata": {
        "colab": {
          "base_uri": "https://localhost:8080/",
          "height": 206
        },
        "id": "aZOWc_8PAJKu",
        "outputId": "054880b8-c8a2-4d22-8385-6fe0372973d3"
      },
      "execution_count": null,
      "outputs": [
        {
          "output_type": "execute_result",
          "data": {
            "text/plain": [
              "                    id dialect  transformed  \\\n",
              "0  1175358310087892992      IQ            0   \n",
              "1  1175416117793349632      IQ            0   \n",
              "2  1175450108898565888      IQ            0   \n",
              "3  1175471073770573824      IQ            0   \n",
              "4  1175496913145217024      IQ            0   \n",
              "\n",
              "                                            fineText  \n",
              "0                           لكن بالنهايه ينتفض يغير   \n",
              "1   يعنى هذا محسوب على البشر حيونه ووحشيه وتطلبون...  \n",
              "2                                مبين من كلامه خليجى  \n",
              "3                         يسلملى مرورك وروحك الحلوه   \n",
              "4                             وين هل الغيبه اخ محمد   "
            ],
            "text/html": [
              "\n",
              "  <div id=\"df-a724fa66-91c8-4a51-81ec-f95e804afa6a\">\n",
              "    <div class=\"colab-df-container\">\n",
              "      <div>\n",
              "<style scoped>\n",
              "    .dataframe tbody tr th:only-of-type {\n",
              "        vertical-align: middle;\n",
              "    }\n",
              "\n",
              "    .dataframe tbody tr th {\n",
              "        vertical-align: top;\n",
              "    }\n",
              "\n",
              "    .dataframe thead th {\n",
              "        text-align: right;\n",
              "    }\n",
              "</style>\n",
              "<table border=\"1\" class=\"dataframe\">\n",
              "  <thead>\n",
              "    <tr style=\"text-align: right;\">\n",
              "      <th></th>\n",
              "      <th>id</th>\n",
              "      <th>dialect</th>\n",
              "      <th>transformed</th>\n",
              "      <th>fineText</th>\n",
              "    </tr>\n",
              "  </thead>\n",
              "  <tbody>\n",
              "    <tr>\n",
              "      <th>0</th>\n",
              "      <td>1175358310087892992</td>\n",
              "      <td>IQ</td>\n",
              "      <td>0</td>\n",
              "      <td>لكن بالنهايه ينتفض يغير</td>\n",
              "    </tr>\n",
              "    <tr>\n",
              "      <th>1</th>\n",
              "      <td>1175416117793349632</td>\n",
              "      <td>IQ</td>\n",
              "      <td>0</td>\n",
              "      <td>يعنى هذا محسوب على البشر حيونه ووحشيه وتطلبون...</td>\n",
              "    </tr>\n",
              "    <tr>\n",
              "      <th>2</th>\n",
              "      <td>1175450108898565888</td>\n",
              "      <td>IQ</td>\n",
              "      <td>0</td>\n",
              "      <td>مبين من كلامه خليجى</td>\n",
              "    </tr>\n",
              "    <tr>\n",
              "      <th>3</th>\n",
              "      <td>1175471073770573824</td>\n",
              "      <td>IQ</td>\n",
              "      <td>0</td>\n",
              "      <td>يسلملى مرورك وروحك الحلوه</td>\n",
              "    </tr>\n",
              "    <tr>\n",
              "      <th>4</th>\n",
              "      <td>1175496913145217024</td>\n",
              "      <td>IQ</td>\n",
              "      <td>0</td>\n",
              "      <td>وين هل الغيبه اخ محمد</td>\n",
              "    </tr>\n",
              "  </tbody>\n",
              "</table>\n",
              "</div>\n",
              "      <button class=\"colab-df-convert\" onclick=\"convertToInteractive('df-a724fa66-91c8-4a51-81ec-f95e804afa6a')\"\n",
              "              title=\"Convert this dataframe to an interactive table.\"\n",
              "              style=\"display:none;\">\n",
              "        \n",
              "  <svg xmlns=\"http://www.w3.org/2000/svg\" height=\"24px\"viewBox=\"0 0 24 24\"\n",
              "       width=\"24px\">\n",
              "    <path d=\"M0 0h24v24H0V0z\" fill=\"none\"/>\n",
              "    <path d=\"M18.56 5.44l.94 2.06.94-2.06 2.06-.94-2.06-.94-.94-2.06-.94 2.06-2.06.94zm-11 1L8.5 8.5l.94-2.06 2.06-.94-2.06-.94L8.5 2.5l-.94 2.06-2.06.94zm10 10l.94 2.06.94-2.06 2.06-.94-2.06-.94-.94-2.06-.94 2.06-2.06.94z\"/><path d=\"M17.41 7.96l-1.37-1.37c-.4-.4-.92-.59-1.43-.59-.52 0-1.04.2-1.43.59L10.3 9.45l-7.72 7.72c-.78.78-.78 2.05 0 2.83L4 21.41c.39.39.9.59 1.41.59.51 0 1.02-.2 1.41-.59l7.78-7.78 2.81-2.81c.8-.78.8-2.07 0-2.86zM5.41 20L4 18.59l7.72-7.72 1.47 1.35L5.41 20z\"/>\n",
              "  </svg>\n",
              "      </button>\n",
              "      \n",
              "  <style>\n",
              "    .colab-df-container {\n",
              "      display:flex;\n",
              "      flex-wrap:wrap;\n",
              "      gap: 12px;\n",
              "    }\n",
              "\n",
              "    .colab-df-convert {\n",
              "      background-color: #E8F0FE;\n",
              "      border: none;\n",
              "      border-radius: 50%;\n",
              "      cursor: pointer;\n",
              "      display: none;\n",
              "      fill: #1967D2;\n",
              "      height: 32px;\n",
              "      padding: 0 0 0 0;\n",
              "      width: 32px;\n",
              "    }\n",
              "\n",
              "    .colab-df-convert:hover {\n",
              "      background-color: #E2EBFA;\n",
              "      box-shadow: 0px 1px 2px rgba(60, 64, 67, 0.3), 0px 1px 3px 1px rgba(60, 64, 67, 0.15);\n",
              "      fill: #174EA6;\n",
              "    }\n",
              "\n",
              "    [theme=dark] .colab-df-convert {\n",
              "      background-color: #3B4455;\n",
              "      fill: #D2E3FC;\n",
              "    }\n",
              "\n",
              "    [theme=dark] .colab-df-convert:hover {\n",
              "      background-color: #434B5C;\n",
              "      box-shadow: 0px 1px 3px 1px rgba(0, 0, 0, 0.15);\n",
              "      filter: drop-shadow(0px 1px 2px rgba(0, 0, 0, 0.3));\n",
              "      fill: #FFFFFF;\n",
              "    }\n",
              "  </style>\n",
              "\n",
              "      <script>\n",
              "        const buttonEl =\n",
              "          document.querySelector('#df-a724fa66-91c8-4a51-81ec-f95e804afa6a button.colab-df-convert');\n",
              "        buttonEl.style.display =\n",
              "          google.colab.kernel.accessAllowed ? 'block' : 'none';\n",
              "\n",
              "        async function convertToInteractive(key) {\n",
              "          const element = document.querySelector('#df-a724fa66-91c8-4a51-81ec-f95e804afa6a');\n",
              "          const dataTable =\n",
              "            await google.colab.kernel.invokeFunction('convertToInteractive',\n",
              "                                                     [key], {});\n",
              "          if (!dataTable) return;\n",
              "\n",
              "          const docLinkHtml = 'Like what you see? Visit the ' +\n",
              "            '<a target=\"_blank\" href=https://colab.research.google.com/notebooks/data_table.ipynb>data table notebook</a>'\n",
              "            + ' to learn more about interactive tables.';\n",
              "          element.innerHTML = '';\n",
              "          dataTable['output_type'] = 'display_data';\n",
              "          await google.colab.output.renderOutput(dataTable, element);\n",
              "          const docLink = document.createElement('div');\n",
              "          docLink.innerHTML = docLinkHtml;\n",
              "          element.appendChild(docLink);\n",
              "        }\n",
              "      </script>\n",
              "    </div>\n",
              "  </div>\n",
              "  "
            ]
          },
          "metadata": {},
          "execution_count": 8
        }
      ]
    },
    {
      "cell_type": "code",
      "source": [
        "msa_df.shape"
      ],
      "metadata": {
        "colab": {
          "base_uri": "https://localhost:8080/"
        },
        "id": "uigEDL6L8aUK",
        "outputId": "d1e6cc2b-7379-4049-ca9b-6cd9dbe87dc7"
      },
      "execution_count": null,
      "outputs": [
        {
          "output_type": "execute_result",
          "data": {
            "text/plain": [
              "(458197, 4)"
            ]
          },
          "metadata": {},
          "execution_count": 9
        }
      ]
    },
    {
      "cell_type": "code",
      "source": [
        "import re\n",
        "#REMOVING ANY NON ARABIC UNICODE\n",
        "def remove_non_arabic(text):\n",
        "    arabic_pattern = re.compile('[\\u0600-\\u06FF\\u0750-\\u077F\\u08A0-\\u08FF\\uFB50-\\uFDCF\\uFDF0-\\uFDFF\\uFE70-\\uFEFF\\u1EE00-\\u1EEFF]+')\n",
        "    arabic_words = arabic_pattern.findall(str(text))\n",
        "    return ' '.join(arabic_words)"
      ],
      "metadata": {
        "id": "FDCyoGfjEYcb"
      },
      "execution_count": null,
      "outputs": []
    },
    {
      "cell_type": "code",
      "source": [
        "#Apply the remove_non_arabic function to the fineText column\n",
        "msa_df2['fineText'] = msa_df2['fineText'].apply(lambda x: remove_non_arabic(x))\n",
        "\n",
        "#Remove rows where fineText column is empty after removing non-Arabic characters\n",
        "msa_df2 = msa_df2[msa_df2['fineText'].str.len() > 0]"
      ],
      "metadata": {
        "id": "TbJXISsnFwQt"
      },
      "execution_count": null,
      "outputs": []
    },
    {
      "cell_type": "code",
      "source": [
        "msa_df2.shape"
      ],
      "metadata": {
        "colab": {
          "base_uri": "https://localhost:8080/"
        },
        "id": "asIVoS3W_3Pi",
        "outputId": "a59a8df6-ecc8-49bb-a18f-17c85661af76"
      },
      "execution_count": null,
      "outputs": [
        {
          "output_type": "execute_result",
          "data": {
            "text/plain": [
              "(458039, 4)"
            ]
          },
          "metadata": {},
          "execution_count": 12
        }
      ]
    },
    {
      "cell_type": "code",
      "source": [
        "#REMOVING @HANDLE\n",
        "def remove_handles(row):\n",
        "    handle_pattern = re.compile(r'@\\w+\\s?')\n",
        "    return handle_pattern.sub('', str(row['fineText']))"
      ],
      "metadata": {
        "id": "MVsFaAfAIcMg"
      },
      "execution_count": null,
      "outputs": []
    },
    {
      "cell_type": "code",
      "source": [
        "#calling the Removing fuction\n",
        "msa_df2['fineText'] = msa_df2.apply(remove_handles, axis=1)"
      ],
      "metadata": {
        "colab": {
          "base_uri": "https://localhost:8080/"
        },
        "id": "hyFyHjgA6Xgm",
        "outputId": "88610b6e-3a33-41a6-f660-7cbb52e8283f"
      },
      "execution_count": null,
      "outputs": [
        {
          "output_type": "stream",
          "name": "stderr",
          "text": [
            "<ipython-input-14-2b7c3a22eefb>:2: SettingWithCopyWarning: \n",
            "A value is trying to be set on a copy of a slice from a DataFrame.\n",
            "Try using .loc[row_indexer,col_indexer] = value instead\n",
            "\n",
            "See the caveats in the documentation: https://pandas.pydata.org/pandas-docs/stable/user_guide/indexing.html#returning-a-view-versus-a-copy\n",
            "  msa_df2['fineText'] = msa_df2.apply(remove_handles, axis=1)\n"
          ]
        }
      ]
    },
    {
      "cell_type": "code",
      "source": [
        "#intializing a list of Arabic stop words\n",
        "arabic_stop_words = ['ك','ل','ب','عن', 'في', 'على', 'من', 'إلى']\n",
        "\n",
        "def remove_stop_words(text):\n",
        "    words = text.split()\n",
        "    filtered_words = [word for word in words if word not in arabic_stop_words]\n",
        "    return ' '.join(filtered_words)"
      ],
      "metadata": {
        "id": "ArbnTpTdJzpC"
      },
      "execution_count": null,
      "outputs": []
    },
    {
      "cell_type": "code",
      "source": [
        "#calling the Removing fuction\n",
        "msa_df2['fineText'] = msa_df2['fineText'].apply(remove_stop_words)"
      ],
      "metadata": {
        "colab": {
          "base_uri": "https://localhost:8080/"
        },
        "id": "POgeVa0-6m6f",
        "outputId": "5b2454c1-96cb-4c6c-8d81-d8a783e54949"
      },
      "execution_count": null,
      "outputs": [
        {
          "output_type": "stream",
          "name": "stderr",
          "text": [
            "<ipython-input-16-6957189edc50>:2: SettingWithCopyWarning: \n",
            "A value is trying to be set on a copy of a slice from a DataFrame.\n",
            "Try using .loc[row_indexer,col_indexer] = value instead\n",
            "\n",
            "See the caveats in the documentation: https://pandas.pydata.org/pandas-docs/stable/user_guide/indexing.html#returning-a-view-versus-a-copy\n",
            "  msa_df2['fineText'] = msa_df2['fineText'].apply(remove_stop_words)\n"
          ]
        }
      ]
    },
    {
      "cell_type": "code",
      "source": [
        "msa_df2.head(5)"
      ],
      "metadata": {
        "id": "8v3MjCOwMp-A",
        "outputId": "d7acc4fd-001e-4c7d-adca-2df6df005296",
        "colab": {
          "base_uri": "https://localhost:8080/",
          "height": 206
        }
      },
      "execution_count": null,
      "outputs": [
        {
          "output_type": "execute_result",
          "data": {
            "text/plain": [
              "                    id dialect  transformed  \\\n",
              "0  1175358310087892992      IQ            0   \n",
              "1  1175416117793349632      IQ            0   \n",
              "2  1175450108898565888      IQ            0   \n",
              "3  1175471073770573824      IQ            0   \n",
              "4  1175496913145217024      IQ            0   \n",
              "\n",
              "                                            fineText  \n",
              "0                            لكن بالنهايه ينتفض يغير  \n",
              "1  يعنى هذا محسوب البشر حيونه ووحشيه وتطلبون الغر...  \n",
              "2                                   مبين كلامه خليجى  \n",
              "3                          يسلملى مرورك وروحك الحلوه  \n",
              "4                              وين هل الغيبه اخ محمد  "
            ],
            "text/html": [
              "\n",
              "  <div id=\"df-3b6334cf-f3f8-4c9b-9e43-8b7ca8202413\">\n",
              "    <div class=\"colab-df-container\">\n",
              "      <div>\n",
              "<style scoped>\n",
              "    .dataframe tbody tr th:only-of-type {\n",
              "        vertical-align: middle;\n",
              "    }\n",
              "\n",
              "    .dataframe tbody tr th {\n",
              "        vertical-align: top;\n",
              "    }\n",
              "\n",
              "    .dataframe thead th {\n",
              "        text-align: right;\n",
              "    }\n",
              "</style>\n",
              "<table border=\"1\" class=\"dataframe\">\n",
              "  <thead>\n",
              "    <tr style=\"text-align: right;\">\n",
              "      <th></th>\n",
              "      <th>id</th>\n",
              "      <th>dialect</th>\n",
              "      <th>transformed</th>\n",
              "      <th>fineText</th>\n",
              "    </tr>\n",
              "  </thead>\n",
              "  <tbody>\n",
              "    <tr>\n",
              "      <th>0</th>\n",
              "      <td>1175358310087892992</td>\n",
              "      <td>IQ</td>\n",
              "      <td>0</td>\n",
              "      <td>لكن بالنهايه ينتفض يغير</td>\n",
              "    </tr>\n",
              "    <tr>\n",
              "      <th>1</th>\n",
              "      <td>1175416117793349632</td>\n",
              "      <td>IQ</td>\n",
              "      <td>0</td>\n",
              "      <td>يعنى هذا محسوب البشر حيونه ووحشيه وتطلبون الغر...</td>\n",
              "    </tr>\n",
              "    <tr>\n",
              "      <th>2</th>\n",
              "      <td>1175450108898565888</td>\n",
              "      <td>IQ</td>\n",
              "      <td>0</td>\n",
              "      <td>مبين كلامه خليجى</td>\n",
              "    </tr>\n",
              "    <tr>\n",
              "      <th>3</th>\n",
              "      <td>1175471073770573824</td>\n",
              "      <td>IQ</td>\n",
              "      <td>0</td>\n",
              "      <td>يسلملى مرورك وروحك الحلوه</td>\n",
              "    </tr>\n",
              "    <tr>\n",
              "      <th>4</th>\n",
              "      <td>1175496913145217024</td>\n",
              "      <td>IQ</td>\n",
              "      <td>0</td>\n",
              "      <td>وين هل الغيبه اخ محمد</td>\n",
              "    </tr>\n",
              "  </tbody>\n",
              "</table>\n",
              "</div>\n",
              "      <button class=\"colab-df-convert\" onclick=\"convertToInteractive('df-3b6334cf-f3f8-4c9b-9e43-8b7ca8202413')\"\n",
              "              title=\"Convert this dataframe to an interactive table.\"\n",
              "              style=\"display:none;\">\n",
              "        \n",
              "  <svg xmlns=\"http://www.w3.org/2000/svg\" height=\"24px\"viewBox=\"0 0 24 24\"\n",
              "       width=\"24px\">\n",
              "    <path d=\"M0 0h24v24H0V0z\" fill=\"none\"/>\n",
              "    <path d=\"M18.56 5.44l.94 2.06.94-2.06 2.06-.94-2.06-.94-.94-2.06-.94 2.06-2.06.94zm-11 1L8.5 8.5l.94-2.06 2.06-.94-2.06-.94L8.5 2.5l-.94 2.06-2.06.94zm10 10l.94 2.06.94-2.06 2.06-.94-2.06-.94-.94-2.06-.94 2.06-2.06.94z\"/><path d=\"M17.41 7.96l-1.37-1.37c-.4-.4-.92-.59-1.43-.59-.52 0-1.04.2-1.43.59L10.3 9.45l-7.72 7.72c-.78.78-.78 2.05 0 2.83L4 21.41c.39.39.9.59 1.41.59.51 0 1.02-.2 1.41-.59l7.78-7.78 2.81-2.81c.8-.78.8-2.07 0-2.86zM5.41 20L4 18.59l7.72-7.72 1.47 1.35L5.41 20z\"/>\n",
              "  </svg>\n",
              "      </button>\n",
              "      \n",
              "  <style>\n",
              "    .colab-df-container {\n",
              "      display:flex;\n",
              "      flex-wrap:wrap;\n",
              "      gap: 12px;\n",
              "    }\n",
              "\n",
              "    .colab-df-convert {\n",
              "      background-color: #E8F0FE;\n",
              "      border: none;\n",
              "      border-radius: 50%;\n",
              "      cursor: pointer;\n",
              "      display: none;\n",
              "      fill: #1967D2;\n",
              "      height: 32px;\n",
              "      padding: 0 0 0 0;\n",
              "      width: 32px;\n",
              "    }\n",
              "\n",
              "    .colab-df-convert:hover {\n",
              "      background-color: #E2EBFA;\n",
              "      box-shadow: 0px 1px 2px rgba(60, 64, 67, 0.3), 0px 1px 3px 1px rgba(60, 64, 67, 0.15);\n",
              "      fill: #174EA6;\n",
              "    }\n",
              "\n",
              "    [theme=dark] .colab-df-convert {\n",
              "      background-color: #3B4455;\n",
              "      fill: #D2E3FC;\n",
              "    }\n",
              "\n",
              "    [theme=dark] .colab-df-convert:hover {\n",
              "      background-color: #434B5C;\n",
              "      box-shadow: 0px 1px 3px 1px rgba(0, 0, 0, 0.15);\n",
              "      filter: drop-shadow(0px 1px 2px rgba(0, 0, 0, 0.3));\n",
              "      fill: #FFFFFF;\n",
              "    }\n",
              "  </style>\n",
              "\n",
              "      <script>\n",
              "        const buttonEl =\n",
              "          document.querySelector('#df-3b6334cf-f3f8-4c9b-9e43-8b7ca8202413 button.colab-df-convert');\n",
              "        buttonEl.style.display =\n",
              "          google.colab.kernel.accessAllowed ? 'block' : 'none';\n",
              "\n",
              "        async function convertToInteractive(key) {\n",
              "          const element = document.querySelector('#df-3b6334cf-f3f8-4c9b-9e43-8b7ca8202413');\n",
              "          const dataTable =\n",
              "            await google.colab.kernel.invokeFunction('convertToInteractive',\n",
              "                                                     [key], {});\n",
              "          if (!dataTable) return;\n",
              "\n",
              "          const docLinkHtml = 'Like what you see? Visit the ' +\n",
              "            '<a target=\"_blank\" href=https://colab.research.google.com/notebooks/data_table.ipynb>data table notebook</a>'\n",
              "            + ' to learn more about interactive tables.';\n",
              "          element.innerHTML = '';\n",
              "          dataTable['output_type'] = 'display_data';\n",
              "          await google.colab.output.renderOutput(dataTable, element);\n",
              "          const docLink = document.createElement('div');\n",
              "          docLink.innerHTML = docLinkHtml;\n",
              "          element.appendChild(docLink);\n",
              "        }\n",
              "      </script>\n",
              "    </div>\n",
              "  </div>\n",
              "  "
            ]
          },
          "metadata": {},
          "execution_count": 17
        }
      ]
    },
    {
      "cell_type": "code",
      "source": [
        "#creating a method for removing diacritics\n",
        "def remove_diacritics(text):\n",
        "    diacritics_pattern = re.compile(r'[\\u064B-\\u065F\\u0670]+')\n",
        "    return diacritics_pattern.sub('', text)"
      ],
      "metadata": {
        "id": "hpVxKba3Mr-Y"
      },
      "execution_count": null,
      "outputs": []
    },
    {
      "cell_type": "code",
      "source": [
        "#calling the Removing fuction\n",
        "msa_df2['fineText'] = msa_df2['fineText'].apply(remove_diacritics)"
      ],
      "metadata": {
        "colab": {
          "base_uri": "https://localhost:8080/"
        },
        "id": "vn6dAYnK6-yJ",
        "outputId": "6f834b55-40b1-4398-e776-626b792e0686"
      },
      "execution_count": null,
      "outputs": [
        {
          "output_type": "stream",
          "name": "stderr",
          "text": [
            "<ipython-input-19-5e2737df5cbd>:2: SettingWithCopyWarning: \n",
            "A value is trying to be set on a copy of a slice from a DataFrame.\n",
            "Try using .loc[row_indexer,col_indexer] = value instead\n",
            "\n",
            "See the caveats in the documentation: https://pandas.pydata.org/pandas-docs/stable/user_guide/indexing.html#returning-a-view-versus-a-copy\n",
            "  msa_df2['fineText'] = msa_df2['fineText'].apply(remove_diacritics)\n"
          ]
        }
      ]
    },
    {
      "cell_type": "code",
      "source": [
        "import unicodedata\n",
        "\n",
        "def normalize_arabic_chars(text):\n",
        "    normalized_text = unicodedata.normalize('NFKD', text)\n",
        "    #Replace combining MADDA ABOVE with LETTER ALEF\n",
        "    normalized_text = normalized_text.replace('\\u0653', '\\u0627')\n",
        "    #Replace combining HAMZA ABOVE with LETTER ALEF\n",
        "    normalized_text = normalized_text.replace('\\u0654', '\\u0627')\n",
        "    #Replace combining HAMZA BELOW with LETTER ALEF\n",
        "    normalized_text = normalized_text.replace('\\u0655', '\\u0627')\n",
        "    return normalized_text"
      ],
      "metadata": {
        "id": "qAEV5_M7OZFI"
      },
      "execution_count": null,
      "outputs": []
    },
    {
      "cell_type": "code",
      "source": [
        "#calling the normalization method\n",
        "msa_df2['fineText'] = msa_df2['fineText'].apply(normalize_arabic_chars)"
      ],
      "metadata": {
        "colab": {
          "base_uri": "https://localhost:8080/"
        },
        "id": "SIprwbKN7Gs1",
        "outputId": "dc96b844-6235-41f1-8131-0a360af03aa4"
      },
      "execution_count": null,
      "outputs": [
        {
          "output_type": "stream",
          "name": "stderr",
          "text": [
            "<ipython-input-21-30e0803ab7c1>:2: SettingWithCopyWarning: \n",
            "A value is trying to be set on a copy of a slice from a DataFrame.\n",
            "Try using .loc[row_indexer,col_indexer] = value instead\n",
            "\n",
            "See the caveats in the documentation: https://pandas.pydata.org/pandas-docs/stable/user_guide/indexing.html#returning-a-view-versus-a-copy\n",
            "  msa_df2['fineText'] = msa_df2['fineText'].apply(normalize_arabic_chars)\n"
          ]
        }
      ]
    },
    {
      "cell_type": "code",
      "source": [
        "def normalize_arabic_chars(text):\n",
        "    normalized_text = unicodedata.normalize('NFKD', text)\n",
        "    # Replace taa' marbuuTa with haa'\n",
        "    normalized_text = normalized_text.replace('\\u0629', '\\u0647')\n",
        "    # Replace yaa' with 'alif maqSuura\n",
        "    normalized_text = normalized_text.replace('\\u064A', '\\u0649')\n",
        "    return normalized_text"
      ],
      "metadata": {
        "id": "b7I_FZ-kPwtb"
      },
      "execution_count": null,
      "outputs": []
    },
    {
      "cell_type": "code",
      "source": [
        "#calling the normalization method\n",
        "msa_df2['fineText'] = msa_df2['fineText'].apply(normalize_arabic_chars)"
      ],
      "metadata": {
        "colab": {
          "base_uri": "https://localhost:8080/"
        },
        "id": "6V2Rlr0i7fFy",
        "outputId": "81478b4a-fcbb-497e-80ee-4adac46f04a9"
      },
      "execution_count": null,
      "outputs": [
        {
          "output_type": "stream",
          "name": "stderr",
          "text": [
            "<ipython-input-23-30e0803ab7c1>:2: SettingWithCopyWarning: \n",
            "A value is trying to be set on a copy of a slice from a DataFrame.\n",
            "Try using .loc[row_indexer,col_indexer] = value instead\n",
            "\n",
            "See the caveats in the documentation: https://pandas.pydata.org/pandas-docs/stable/user_guide/indexing.html#returning-a-view-versus-a-copy\n",
            "  msa_df2['fineText'] = msa_df2['fineText'].apply(normalize_arabic_chars)\n"
          ]
        }
      ]
    },
    {
      "cell_type": "code",
      "source": [
        "msa_df3 = msa_df2"
      ],
      "metadata": {
        "id": "WNeZ3niM9NnI"
      },
      "execution_count": null,
      "outputs": []
    },
    {
      "cell_type": "markdown",
      "source": [
        "# Word embedding"
      ],
      "metadata": {
        "id": "0zeWSIxI5h58"
      }
    },
    {
      "cell_type": "code",
      "source": [
        "import pandas as pd\n",
        "import numpy as np\n",
        "from sklearn.model_selection import train_test_split\n",
        "from sklearn.svm import SVC\n",
        "from sklearn.metrics import classification_report\n",
        "from gensim.models import Word2Vec\n",
        "\n",
        "\n",
        "\n",
        "#Convert sentences to strings and split them into lists of words\n",
        "msa_df3[\"processed_text\"] = msa_df3[\"fineText\"].apply(lambda x: str(x).split())\n",
        "\n",
        "#load pre-trained Word2Vec Model\n",
        "word2vec_model = Word2Vec(sentences=msa_df3[\"processed_text\"], vector_size=100, window=5, min_count=1)\n",
        "\n",
        "#Generate feature vectors using Word2Vec to be fed as the train set\n",
        "def generate_feature_vectors(text):\n",
        "    feature_vector = [word2vec_model.wv[word] for word in text if word in word2vec_model.wv]\n",
        "    if len(feature_vector) == 0:\n",
        "        #Assign default value (=0) if feature vector is empty\n",
        "        feature_vector = np.zeros(word2vec_model.vector_size)\n",
        "    return np.mean(feature_vector, axis=0)\n",
        "\n",
        "msa_df3[\"feature_vectors\"] = msa_df3[\"processed_text\"].apply(generate_feature_vectors)\n",
        "\n",
        "\n"
      ],
      "metadata": {
        "colab": {
          "base_uri": "https://localhost:8080/"
        },
        "id": "5BYP9an08roO",
        "outputId": "eb72f689-5cc8-46ee-beba-84bbfca29640"
      },
      "execution_count": null,
      "outputs": [
        {
          "output_type": "stream",
          "name": "stderr",
          "text": [
            "<ipython-input-26-aa287c94cc37>:11: SettingWithCopyWarning: \n",
            "A value is trying to be set on a copy of a slice from a DataFrame.\n",
            "Try using .loc[row_indexer,col_indexer] = value instead\n",
            "\n",
            "See the caveats in the documentation: https://pandas.pydata.org/pandas-docs/stable/user_guide/indexing.html#returning-a-view-versus-a-copy\n",
            "  msa_df3[\"processed_text\"] = msa_df3[\"fineText\"].apply(lambda x: str(x).split())\n",
            "<ipython-input-26-aa287c94cc37>:24: SettingWithCopyWarning: \n",
            "A value is trying to be set on a copy of a slice from a DataFrame.\n",
            "Try using .loc[row_indexer,col_indexer] = value instead\n",
            "\n",
            "See the caveats in the documentation: https://pandas.pydata.org/pandas-docs/stable/user_guide/indexing.html#returning-a-view-versus-a-copy\n",
            "  msa_df3[\"feature_vectors\"] = msa_df3[\"processed_text\"].apply(generate_feature_vectors)\n"
          ]
        }
      ]
    },
    {
      "cell_type": "markdown",
      "source": [
        "Models Developments"
      ],
      "metadata": {
        "id": "lwNHB2IC5uCU"
      }
    },
    {
      "cell_type": "markdown",
      "source": [
        "# SVM"
      ],
      "metadata": {
        "id": "U_0_Pi-0mSic"
      }
    },
    {
      "cell_type": "code",
      "source": [
        "import pandas as pd\n",
        "import numpy as np\n",
        "from sklearn.svm import SVC\n",
        "from sklearn.metrics import accuracy_score\n",
        "from sklearn.preprocessing import LabelEncoder\n",
        "from gensim.models import Word2Vec\n",
        "from nltk.tokenize import word_tokenize\n",
        "\n",
        "#Split the dataset into training and testing sets\n",
        "X_train, X_test, y_train, y_test = train_test_split(msa_df3[\"feature_vectors\"], msa_df3[\"transformed\"], test_size=0.2, random_state=42)\n",
        "\n",
        "# Train the SVM model\n",
        "svm_model = SVC()\n",
        "\n",
        "#Convert X_train to list\n",
        "svm_model.fit(list(X_train), y_train)\n",
        "\n",
        "#Convert X_test to list\n",
        "y_pred = svm_model.predict(list(X_test))\n",
        "\n",
        "# Evaluate the model\n",
        "accuracy = accuracy_score(y_test, y_pred)\n",
        "print(\"Accuracy:\", accuracy)\n",
        "\n",
        "# Print the classification report\n",
        "report = classification_report(y_test, y_pred)\n",
        "print(\"Classification Report:\")\n",
        "print(report)"
      ],
      "metadata": {
        "id": "5ju5QamvkN3F",
        "colab": {
          "base_uri": "https://localhost:8080/"
        },
        "outputId": "8eba4750-bdf6-470a-b30d-be3ad07a0365"
      },
      "execution_count": null,
      "outputs": [
        {
          "output_type": "stream",
          "name": "stdout",
          "text": [
            "Accuracy: 0.6875\n",
            "Classification Report:\n",
            "              precision    recall  f1-score   support\n",
            "\n",
            "           0       0.00      0.00      0.00      3125\n",
            "           1       0.69      1.00      0.81      6875\n",
            "\n",
            "    accuracy                           0.69     10000\n",
            "   macro avg       0.34      0.50      0.41     10000\n",
            "weighted avg       0.47      0.69      0.56     10000\n",
            "\n"
          ]
        },
        {
          "output_type": "stream",
          "name": "stderr",
          "text": [
            "/usr/local/lib/python3.10/dist-packages/sklearn/metrics/_classification.py:1344: UndefinedMetricWarning: Precision and F-score are ill-defined and being set to 0.0 in labels with no predicted samples. Use `zero_division` parameter to control this behavior.\n",
            "  _warn_prf(average, modifier, msg_start, len(result))\n",
            "/usr/local/lib/python3.10/dist-packages/sklearn/metrics/_classification.py:1344: UndefinedMetricWarning: Precision and F-score are ill-defined and being set to 0.0 in labels with no predicted samples. Use `zero_division` parameter to control this behavior.\n",
            "  _warn_prf(average, modifier, msg_start, len(result))\n",
            "/usr/local/lib/python3.10/dist-packages/sklearn/metrics/_classification.py:1344: UndefinedMetricWarning: Precision and F-score are ill-defined and being set to 0.0 in labels with no predicted samples. Use `zero_division` parameter to control this behavior.\n",
            "  _warn_prf(average, modifier, msg_start, len(result))\n"
          ]
        }
      ]
    },
    {
      "cell_type": "markdown",
      "source": [
        "# Tuning Hyperparameters"
      ],
      "metadata": {
        "id": "ykkgvqD5V3BI"
      }
    },
    {
      "cell_type": "code",
      "source": [
        "#Split the dataset into training and testing sets\n",
        "X_train, X_test, y_train, y_test = train_test_split(msa_df3[\"feature_vectors\"], msa_df3[\"transformed\"], test_size=0.2, random_state=42)\n",
        "\n",
        "#Defining  parameters to tune\n",
        "param_grid = {'C': [0.1, 1, 10], 'gamma': [0.1, 0.01, 0.001]}\n",
        "\n",
        "best_accuracy = 0\n",
        "best_params = {}\n",
        "\n",
        "#Iterate the parameter combinations and use them in training\n",
        "#Train the SVM model\n",
        "for C in param_grid['C']:\n",
        "  for gamma in param_grid['gamma']:\n",
        "    svm_model = SVC(C=C, gamma=gamma)\n",
        "    svm_model.fit(list(X_train), y_train)\n",
        "\n",
        "    # Convert X_test to list\n",
        "    y_pred = svm_model.predict(list(X_test))\n",
        "\n",
        "    # Evaluate the model\n",
        "    accuracy = accuracy_score(y_test, y_pred)\n",
        "\n",
        "    #Print the accuracy for the current parameter combination\n",
        "    print(\"Accuracy for C={}, gamma={}: {}\".format(C, gamma, accuracy))\n",
        "\n",
        "    #Check if the current accuracy is better than the previous best accuracy\n",
        "    if accuracy > best_accuracy:\n",
        "      best_accuracy = accuracy\n",
        "      best_params = {'C': C, 'gamma': gamma}\n",
        "\n",
        "# Print the best accuracy and the corresponding parameters\n",
        "print(\"Best Accuracy:\", best_accuracy)\n",
        "print(\"Best Parameters:\", best_params)\n",
        "\n",
        "# Print the classification report\n",
        "report = classification_report(y_test, y_pred)\n",
        "print(\"Classification Report:\")\n",
        "print(report)"
      ],
      "metadata": {
        "colab": {
          "base_uri": "https://localhost:8080/"
        },
        "id": "YlL9kYr0KNU8",
        "outputId": "b767eb0c-7fed-4073-c6b8-ae98072dc8e6"
      },
      "execution_count": null,
      "outputs": [
        {
          "output_type": "stream",
          "name": "stdout",
          "text": [
            "Accuracy for C=0.1, gamma=0.1: 0.6875\n",
            "Accuracy for C=0.1, gamma=0.01: 0.6875\n",
            "Accuracy for C=0.1, gamma=0.001: 0.6875\n",
            "Accuracy for C=1, gamma=0.1: 0.6961\n",
            "Accuracy for C=1, gamma=0.01: 0.6875\n",
            "Accuracy for C=1, gamma=0.001: 0.6875\n",
            "Accuracy for C=10, gamma=0.1: 0.7672\n",
            "Accuracy for C=10, gamma=0.01: 0.6989\n",
            "Accuracy for C=10, gamma=0.001: 0.6875\n",
            "Best Accuracy: 0.7672\n",
            "Best Parameters: {'C': 10, 'gamma': 0.1}\n",
            "Classification Report:\n",
            "              precision    recall  f1-score   support\n",
            "\n",
            "           0       0.00      0.00      0.00      3125\n",
            "           1       0.69      1.00      0.81      6875\n",
            "\n",
            "    accuracy                           0.69     10000\n",
            "   macro avg       0.34      0.50      0.41     10000\n",
            "weighted avg       0.47      0.69      0.56     10000\n",
            "\n"
          ]
        },
        {
          "output_type": "stream",
          "name": "stderr",
          "text": [
            "/usr/local/lib/python3.10/dist-packages/sklearn/metrics/_classification.py:1344: UndefinedMetricWarning: Precision and F-score are ill-defined and being set to 0.0 in labels with no predicted samples. Use `zero_division` parameter to control this behavior.\n",
            "  _warn_prf(average, modifier, msg_start, len(result))\n",
            "/usr/local/lib/python3.10/dist-packages/sklearn/metrics/_classification.py:1344: UndefinedMetricWarning: Precision and F-score are ill-defined and being set to 0.0 in labels with no predicted samples. Use `zero_division` parameter to control this behavior.\n",
            "  _warn_prf(average, modifier, msg_start, len(result))\n",
            "/usr/local/lib/python3.10/dist-packages/sklearn/metrics/_classification.py:1344: UndefinedMetricWarning: Precision and F-score are ill-defined and being set to 0.0 in labels with no predicted samples. Use `zero_division` parameter to control this behavior.\n",
            "  _warn_prf(average, modifier, msg_start, len(result))\n"
          ]
        }
      ]
    },
    {
      "cell_type": "markdown",
      "source": [
        "# LSTM"
      ],
      "metadata": {
        "id": "cuEn_bYbmXXz"
      }
    },
    {
      "cell_type": "code",
      "source": [
        "from keras.models import Sequential\n",
        "from keras.layers import LSTM, Dense, Embedding\n",
        "from tensorflow.keras.preprocessing.sequence import pad_sequences\n",
        "from keras.utils import to_categorical\n",
        "\n",
        "#split the dataset into training and testing sets\n",
        "X_train, X_test, y_train, y_test = train_test_split(msa_df3[\"feature_vectors\"], msa_df3[\"transformed\"], test_size=0.2, random_state=42)\n",
        "\n",
        "# Convert feature vectors to sequences\n",
        "X_train = pad_sequences(X_train)\n",
        "X_test = pad_sequences(X_test, maxlen=X_train.shape[1])\n",
        "\n",
        "#defining the number of units in the output layer of a neural network\n",
        "num_classes = len(msa_df3[\"transformed\"].unique())\n",
        "\n",
        "#Convert labels to categorical format\n",
        "y_train_categorical = to_categorical(y_train, num_classes)\n",
        "y_test_categorical = to_categorical(y_test, num_classes)\n",
        "\n",
        "#Build the LSTM model\n",
        "model = Sequential()\n",
        "model.add(Embedding(input_dim=X_train.shape[0], output_dim=100, input_length=X_train.shape[1]))\n",
        "model.add(LSTM(128))\n",
        "model.add(Dense(num_classes, activation='softmax'))\n",
        "\n",
        "#Compile the model\n",
        "model.compile(loss='categorical_crossentropy', optimizer='adam', metrics=['accuracy'])\n",
        "\n",
        "#Train the model\n",
        "model.fit(X_train, y_train_categorical, validation_data=(X_test, y_test_categorical), epochs=10, batch_size=32)\n",
        "\n",
        "#Evaluate the model\n",
        "loss, accuracy = model.evaluate(X_test, y_test_categorical, batch_size=32)\n",
        "print(\"Accuracy:\", accuracy)"
      ],
      "metadata": {
        "id": "DF7Tq87oj03w",
        "colab": {
          "base_uri": "https://localhost:8080/"
        },
        "outputId": "ae81414f-ab7a-4686-aab0-83da5267c347"
      },
      "execution_count": null,
      "outputs": [
        {
          "output_type": "stream",
          "name": "stdout",
          "text": [
            "Epoch 1/10\n",
            "1250/1250 [==============================] - 13s 9ms/step - loss: 0.6164 - accuracy: 0.6906 - val_loss: 0.6155 - val_accuracy: 0.6875\n",
            "Epoch 2/10\n",
            "1250/1250 [==============================] - 10s 8ms/step - loss: 0.6145 - accuracy: 0.6909 - val_loss: 0.6154 - val_accuracy: 0.6875\n",
            "Epoch 3/10\n",
            "1250/1250 [==============================] - 10s 8ms/step - loss: 0.6141 - accuracy: 0.6909 - val_loss: 0.6152 - val_accuracy: 0.6875\n",
            "Epoch 4/10\n",
            "1250/1250 [==============================] - 10s 8ms/step - loss: 0.6140 - accuracy: 0.6909 - val_loss: 0.6159 - val_accuracy: 0.6875\n",
            "Epoch 5/10\n",
            "1250/1250 [==============================] - 10s 8ms/step - loss: 0.6140 - accuracy: 0.6909 - val_loss: 0.6152 - val_accuracy: 0.6875\n",
            "Epoch 6/10\n",
            "1250/1250 [==============================] - 10s 8ms/step - loss: 0.6140 - accuracy: 0.6909 - val_loss: 0.6155 - val_accuracy: 0.6875\n",
            "Epoch 7/10\n",
            "1250/1250 [==============================] - 11s 9ms/step - loss: 0.6138 - accuracy: 0.6909 - val_loss: 0.6153 - val_accuracy: 0.6875\n",
            "Epoch 8/10\n",
            "1250/1250 [==============================] - 10s 8ms/step - loss: 0.6137 - accuracy: 0.6909 - val_loss: 0.6158 - val_accuracy: 0.6875\n",
            "Epoch 9/10\n",
            "1250/1250 [==============================] - 10s 8ms/step - loss: 0.6136 - accuracy: 0.6909 - val_loss: 0.6187 - val_accuracy: 0.6875\n",
            "Epoch 10/10\n",
            "1250/1250 [==============================] - 10s 8ms/step - loss: 0.6135 - accuracy: 0.6909 - val_loss: 0.6156 - val_accuracy: 0.6875\n",
            "313/313 [==============================] - 2s 5ms/step - loss: 0.6156 - accuracy: 0.6875\n",
            "Accuracy: 0.6875\n"
          ]
        }
      ]
    },
    {
      "cell_type": "markdown",
      "source": [
        "# Tuning Hyperparameters"
      ],
      "metadata": {
        "id": "fpdFmoo0Vt2z"
      }
    },
    {
      "cell_type": "code",
      "source": [
        "from keras.models import Sequential\n",
        "from keras.layers import LSTM, Dense, Embedding\n",
        "from tensorflow.keras.preprocessing.sequence import pad_sequences\n",
        "from keras.utils import to_categorical\n",
        "\n",
        "# Split the dataset into training and testing sets\n",
        "X_train, X_test, y_train, y_test = train_test_split(msa_df3[\"feature_vectors\"], msa_df3[\"transformed\"], test_size=0.2, random_state=42)\n",
        "\n",
        "# Convert feature vectors to sequences\n",
        "X_train = pad_sequences(X_train)\n",
        "X_test = pad_sequences(X_test, maxlen=X_train.shape[1])\n",
        "\n",
        "# Define the number of units in the output layer of a neural network\n",
        "num_classes = len(msa_df3[\"transformed\"].unique())\n",
        "\n",
        "# Convert labels to categorical format\n",
        "y_train_categorical = to_categorical(y_train, num_classes)\n",
        "y_test_categorical = to_categorical(y_test, num_classes)\n",
        "\n",
        "# Build the LSTM model\n",
        "model = Sequential()\n",
        "model.add(Embedding(input_dim=X_train.shape[0], output_dim=100, input_length=X_train.shape[1]))\n",
        "model.add(LSTM(128))\n",
        "model.add(Dense(num_classes, activation='softmax'))\n",
        "\n",
        "# Compile the model\n",
        "model.compile(loss='categorical_crossentropy', optimizer='adam', metrics=['accuracy'])\n",
        "\n",
        "# Define the parameters to tune\n",
        "param_grid = {\n",
        "    'embedding_output_dim': [50, 100, 150], 'lstm_units': [64, 128, 256]\n",
        "}\n",
        "\n",
        "best_accuracy = 0\n",
        "best_params = {}\n",
        "\n",
        "# Iterate over the parameter combinations\n",
        "for embedding_output_dim in param_grid['embedding_output_dim']:\n",
        "    for lstm_units in param_grid['lstm_units']:\n",
        "        # Build the LSTM model with current parameter values\n",
        "        model = Sequential()\n",
        "        model.add(Embedding(input_dim=X_train.shape[0], output_dim=embedding_output_dim, input_length=X_train.shape[1]))\n",
        "        model.add(LSTM(lstm_units))\n",
        "        model.add(Dense(num_classes, activation='softmax'))\n",
        "\n",
        "        # Compile the model\n",
        "        model.compile(loss='categorical_crossentropy', optimizer='adam', metrics=['accuracy'])\n",
        "\n",
        "        # Train the model\n",
        "        model.fit(X_train, y_train_categorical, validation_data=(X_test, y_test_categorical), epochs=5, batch_size=32)\n",
        "\n",
        "        # Evaluate the model\n",
        "        _, accuracy = model.evaluate(X_test, y_test_categorical, batch_size=32)\n",
        "\n",
        "        # Print the accuracy for the current parameter combination\n",
        "        print(\"Accuracy for embedding_output_dim={}, lstm_units={}: {}\".format(embedding_output_dim, lstm_units, accuracy))\n",
        "\n",
        "        # Check if the current accuracy is better than the previous best accuracy\n",
        "        if accuracy > best_accuracy:\n",
        "            best_accuracy = accuracy\n",
        "            best_params = {'embedding_output_dim': embedding_output_dim, 'lstm_units': lstm_units}\n",
        "\n",
        "# Print the best accuracy and the corresponding parameters\n",
        "print(\"Best Accuracy:\", best_accuracy)\n",
        "print(\"Best Parameters:\", best_params)"
      ],
      "metadata": {
        "colab": {
          "base_uri": "https://localhost:8080/"
        },
        "id": "NVHxe7-Df48H",
        "outputId": "8eccf3a9-2390-4f1d-cc75-59732d678d89"
      },
      "execution_count": null,
      "outputs": [
        {
          "output_type": "stream",
          "name": "stdout",
          "text": [
            "Epoch 1/5\n",
            "1250/1250 [==============================] - 13s 8ms/step - loss: 0.6168 - accuracy: 0.6906 - val_loss: 0.6157 - val_accuracy: 0.6875\n",
            "Epoch 2/5\n",
            "1250/1250 [==============================] - 9s 7ms/step - loss: 0.6145 - accuracy: 0.6909 - val_loss: 0.6179 - val_accuracy: 0.6875\n",
            "Epoch 3/5\n",
            "1250/1250 [==============================] - 9s 8ms/step - loss: 0.6141 - accuracy: 0.6909 - val_loss: 0.6163 - val_accuracy: 0.6875\n",
            "Epoch 4/5\n",
            "1250/1250 [==============================] - 10s 8ms/step - loss: 0.6138 - accuracy: 0.6909 - val_loss: 0.6161 - val_accuracy: 0.6875\n",
            "Epoch 5/5\n",
            "1250/1250 [==============================] - 10s 8ms/step - loss: 0.6141 - accuracy: 0.6909 - val_loss: 0.6155 - val_accuracy: 0.6875\n",
            "313/313 [==============================] - 1s 5ms/step - loss: 0.6155 - accuracy: 0.6875\n",
            "Accuracy for embedding_output_dim=50, lstm_units=64: 0.6875\n",
            "Epoch 1/5\n",
            "1250/1250 [==============================] - 12s 8ms/step - loss: 0.6174 - accuracy: 0.6909 - val_loss: 0.6156 - val_accuracy: 0.6875\n",
            "Epoch 2/5\n",
            "1250/1250 [==============================] - 9s 7ms/step - loss: 0.6145 - accuracy: 0.6909 - val_loss: 0.6161 - val_accuracy: 0.6875\n",
            "Epoch 3/5\n",
            "1250/1250 [==============================] - 9s 8ms/step - loss: 0.6139 - accuracy: 0.6909 - val_loss: 0.6152 - val_accuracy: 0.6875\n",
            "Epoch 4/5\n",
            "1250/1250 [==============================] - 10s 8ms/step - loss: 0.6141 - accuracy: 0.6909 - val_loss: 0.6154 - val_accuracy: 0.6875\n",
            "Epoch 5/5\n",
            "1250/1250 [==============================] - 10s 8ms/step - loss: 0.6138 - accuracy: 0.6909 - val_loss: 0.6162 - val_accuracy: 0.6875\n",
            "313/313 [==============================] - 1s 5ms/step - loss: 0.6162 - accuracy: 0.6875\n",
            "Accuracy for embedding_output_dim=50, lstm_units=128: 0.6875\n",
            "Epoch 1/5\n",
            "1250/1250 [==============================] - 14s 9ms/step - loss: 0.6166 - accuracy: 0.6906 - val_loss: 0.6172 - val_accuracy: 0.6875\n",
            "Epoch 2/5\n",
            "1250/1250 [==============================] - 11s 9ms/step - loss: 0.6146 - accuracy: 0.6909 - val_loss: 0.6154 - val_accuracy: 0.6875\n",
            "Epoch 3/5\n",
            "1250/1250 [==============================] - 11s 9ms/step - loss: 0.6141 - accuracy: 0.6909 - val_loss: 0.6157 - val_accuracy: 0.6875\n",
            "Epoch 4/5\n",
            "1250/1250 [==============================] - 12s 10ms/step - loss: 0.6140 - accuracy: 0.6909 - val_loss: 0.6152 - val_accuracy: 0.6875\n",
            "Epoch 5/5\n",
            "1250/1250 [==============================] - 11s 8ms/step - loss: 0.6139 - accuracy: 0.6909 - val_loss: 0.6154 - val_accuracy: 0.6875\n",
            "313/313 [==============================] - 1s 5ms/step - loss: 0.6154 - accuracy: 0.6875\n",
            "Accuracy for embedding_output_dim=50, lstm_units=256: 0.6875\n",
            "Epoch 1/5\n",
            "1250/1250 [==============================] - 13s 9ms/step - loss: 0.6163 - accuracy: 0.6909 - val_loss: 0.6170 - val_accuracy: 0.6875\n",
            "Epoch 2/5\n",
            "1250/1250 [==============================] - 11s 9ms/step - loss: 0.6145 - accuracy: 0.6909 - val_loss: 0.6151 - val_accuracy: 0.6875\n",
            "Epoch 3/5\n",
            "1250/1250 [==============================] - 9s 7ms/step - loss: 0.6142 - accuracy: 0.6909 - val_loss: 0.6155 - val_accuracy: 0.6875\n",
            "Epoch 4/5\n",
            "1250/1250 [==============================] - 10s 8ms/step - loss: 0.6141 - accuracy: 0.6909 - val_loss: 0.6157 - val_accuracy: 0.6875\n",
            "Epoch 5/5\n",
            "1250/1250 [==============================] - 10s 8ms/step - loss: 0.6140 - accuracy: 0.6909 - val_loss: 0.6159 - val_accuracy: 0.6875\n",
            "313/313 [==============================] - 1s 4ms/step - loss: 0.6159 - accuracy: 0.6875\n",
            "Accuracy for embedding_output_dim=100, lstm_units=64: 0.6875\n",
            "Epoch 1/5\n",
            "1250/1250 [==============================] - 13s 9ms/step - loss: 0.6163 - accuracy: 0.6906 - val_loss: 0.6152 - val_accuracy: 0.6875\n",
            "Epoch 2/5\n",
            "1250/1250 [==============================] - 11s 8ms/step - loss: 0.6145 - accuracy: 0.6909 - val_loss: 0.6164 - val_accuracy: 0.6875\n",
            "Epoch 3/5\n",
            "1250/1250 [==============================] - 10s 8ms/step - loss: 0.6139 - accuracy: 0.6909 - val_loss: 0.6157 - val_accuracy: 0.6875\n",
            "Epoch 4/5\n",
            "1250/1250 [==============================] - 10s 8ms/step - loss: 0.6139 - accuracy: 0.6909 - val_loss: 0.6155 - val_accuracy: 0.6875\n",
            "Epoch 5/5\n",
            "1250/1250 [==============================] - 9s 8ms/step - loss: 0.6139 - accuracy: 0.6909 - val_loss: 0.6163 - val_accuracy: 0.6875\n",
            "313/313 [==============================] - 1s 5ms/step - loss: 0.6163 - accuracy: 0.6875\n",
            "Accuracy for embedding_output_dim=100, lstm_units=128: 0.6875\n",
            "Epoch 1/5\n",
            "1250/1250 [==============================] - 16s 10ms/step - loss: 0.6166 - accuracy: 0.6904 - val_loss: 0.6165 - val_accuracy: 0.6875\n",
            "Epoch 2/5\n",
            "1250/1250 [==============================] - 13s 10ms/step - loss: 0.6148 - accuracy: 0.6909 - val_loss: 0.6166 - val_accuracy: 0.6875\n",
            "Epoch 3/5\n",
            "1250/1250 [==============================] - 12s 9ms/step - loss: 0.6145 - accuracy: 0.6909 - val_loss: 0.6155 - val_accuracy: 0.6875\n",
            "Epoch 4/5\n",
            "1250/1250 [==============================] - 13s 10ms/step - loss: 0.6140 - accuracy: 0.6909 - val_loss: 0.6154 - val_accuracy: 0.6875\n",
            "Epoch 5/5\n",
            "1250/1250 [==============================] - 12s 9ms/step - loss: 0.6139 - accuracy: 0.6909 - val_loss: 0.6161 - val_accuracy: 0.6875\n",
            "313/313 [==============================] - 2s 5ms/step - loss: 0.6161 - accuracy: 0.6875\n",
            "Accuracy for embedding_output_dim=100, lstm_units=256: 0.6875\n",
            "Epoch 1/5\n",
            "1250/1250 [==============================] - 15s 10ms/step - loss: 0.6162 - accuracy: 0.6909 - val_loss: 0.6159 - val_accuracy: 0.6875\n",
            "Epoch 2/5\n",
            "1250/1250 [==============================] - 12s 9ms/step - loss: 0.6143 - accuracy: 0.6909 - val_loss: 0.6171 - val_accuracy: 0.6875\n",
            "Epoch 3/5\n",
            "1250/1250 [==============================] - 10s 8ms/step - loss: 0.6142 - accuracy: 0.6909 - val_loss: 0.6153 - val_accuracy: 0.6875\n",
            "Epoch 4/5\n",
            "1250/1250 [==============================] - 10s 8ms/step - loss: 0.6139 - accuracy: 0.6909 - val_loss: 0.6153 - val_accuracy: 0.6875\n",
            "Epoch 5/5\n",
            "1250/1250 [==============================] - 10s 8ms/step - loss: 0.6137 - accuracy: 0.6909 - val_loss: 0.6171 - val_accuracy: 0.6875\n",
            "313/313 [==============================] - 1s 4ms/step - loss: 0.6171 - accuracy: 0.6875\n",
            "Accuracy for embedding_output_dim=150, lstm_units=64: 0.6875\n",
            "Epoch 1/5\n",
            "1250/1250 [==============================] - 14s 9ms/step - loss: 0.6168 - accuracy: 0.6906 - val_loss: 0.6160 - val_accuracy: 0.6875\n",
            "Epoch 2/5\n",
            "1250/1250 [==============================] - 11s 9ms/step - loss: 0.6142 - accuracy: 0.6909 - val_loss: 0.6155 - val_accuracy: 0.6875\n",
            "Epoch 3/5\n",
            "1250/1250 [==============================] - 11s 8ms/step - loss: 0.6142 - accuracy: 0.6909 - val_loss: 0.6167 - val_accuracy: 0.6875\n",
            "Epoch 4/5\n",
            "1250/1250 [==============================] - 11s 8ms/step - loss: 0.6139 - accuracy: 0.6909 - val_loss: 0.6158 - val_accuracy: 0.6875\n",
            "Epoch 5/5\n",
            "1250/1250 [==============================] - 11s 8ms/step - loss: 0.6139 - accuracy: 0.6909 - val_loss: 0.6157 - val_accuracy: 0.6875\n",
            "313/313 [==============================] - 1s 4ms/step - loss: 0.6157 - accuracy: 0.6875\n",
            "Accuracy for embedding_output_dim=150, lstm_units=128: 0.6875\n",
            "Epoch 1/5\n",
            "1250/1250 [==============================] - 15s 11ms/step - loss: 0.6169 - accuracy: 0.6909 - val_loss: 0.6163 - val_accuracy: 0.6875\n",
            "Epoch 2/5\n",
            "1250/1250 [==============================] - 12s 10ms/step - loss: 0.6144 - accuracy: 0.6909 - val_loss: 0.6177 - val_accuracy: 0.6875\n",
            "Epoch 3/5\n",
            "1250/1250 [==============================] - 13s 10ms/step - loss: 0.6144 - accuracy: 0.6909 - val_loss: 0.6159 - val_accuracy: 0.6875\n",
            "Epoch 4/5\n",
            "1250/1250 [==============================] - 13s 10ms/step - loss: 0.6140 - accuracy: 0.6909 - val_loss: 0.6155 - val_accuracy: 0.6875\n",
            "Epoch 5/5\n",
            "1250/1250 [==============================] - 12s 10ms/step - loss: 0.6141 - accuracy: 0.6909 - val_loss: 0.6163 - val_accuracy: 0.6875\n",
            "313/313 [==============================] - 1s 4ms/step - loss: 0.6163 - accuracy: 0.6875\n",
            "Accuracy for embedding_output_dim=150, lstm_units=256: 0.6875\n",
            "Best Accuracy: 0.6875\n",
            "Best Parameters: {'embedding_output_dim': 50, 'lstm_units': 64}\n"
          ]
        }
      ]
    }
  ]
}